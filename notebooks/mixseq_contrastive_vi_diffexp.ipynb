{
 "cells": [
  {
   "cell_type": "code",
   "execution_count": 1,
   "id": "1a30ee90-9e35-4987-9254-3b75e774d6e1",
   "metadata": {},
   "outputs": [
    {
     "name": "stderr",
     "output_type": "stream",
     "text": [
      "Global seed set to 0\n",
      "During startup - Warning messages:\n",
      "1: package ‘methods’ was built under R version 3.6.1 \n",
      "2: package ‘datasets’ was built under R version 3.6.1 \n",
      "3: package ‘utils’ was built under R version 3.6.1 \n",
      "4: package ‘grDevices’ was built under R version 3.6.1 \n",
      "5: package ‘graphics’ was built under R version 3.6.1 \n",
      "6: package ‘stats’ was built under R version 3.6.1 \n"
     ]
    }
   ],
   "source": [
    "import os\n",
    "import torch\n",
    "\n",
    "import scanpy as sc\n",
    "import numpy as np\n",
    "import pandas as pd\n",
    "import gseapy as gp\n",
    "\n",
    "from tqdm import tqdm\n",
    "from sklearn.cluster import KMeans\n",
    "from contrastive_vi.model.contrastive_vi import ContrastiveVIModel\n",
    "from scripts import constants\n",
    "from scvi._settings import settings"
   ]
  },
  {
   "cell_type": "code",
   "execution_count": 2,
   "id": "69e38f98-0a04-43cf-a485-6c33386e2ac8",
   "metadata": {},
   "outputs": [
    {
     "name": "stderr",
     "output_type": "stream",
     "text": [
      "Global seed set to 0\n"
     ]
    }
   ],
   "source": [
    "settings.seed = 0\n",
    "device = \"cpu\"\n",
    "dataset = \"mcfarland_2020\""
   ]
  },
  {
   "cell_type": "code",
   "execution_count": 3,
   "id": "1298aa8a-1bb7-4888-89f5-abe6a15a461b",
   "metadata": {},
   "outputs": [],
   "source": [
    "split_key = constants.DATASET_SPLIT_LOOKUP[dataset][\"split_key\"]\n",
    "background_value = constants.DATASET_SPLIT_LOOKUP[dataset][\"background_value\"]\n",
    "seeds = constants.DEFAULT_SEEDS\n",
    "latent_size = 10"
   ]
  },
  {
   "cell_type": "code",
   "execution_count": 4,
   "id": "56bbb7e9-13e5-4399-8032-330c0467e3c2",
   "metadata": {},
   "outputs": [
    {
     "name": "stderr",
     "output_type": "stream",
     "text": [
      "Observation names are not unique. To make them unique, call `.obs_names_make_unique`.\n"
     ]
    },
    {
     "name": "stdout",
     "output_type": "stream",
     "text": [
      "\u001b[34mINFO    \u001b[0m No batch_key inputted, assuming all cells are same batch                            \n",
      "\u001b[34mINFO    \u001b[0m No label_key inputted, assuming all cells have same label                           \n",
      "\u001b[34mINFO    \u001b[0m Using data from adata.layers\u001b[1m[\u001b[0m\u001b[32m\"count\"\u001b[0m\u001b[1m]\u001b[0m                                               \n",
      "\u001b[34mINFO    \u001b[0m Successfully registered anndata object containing \u001b[1;36m5928\u001b[0m cells, \u001b[1;36m2000\u001b[0m vars, \u001b[1;36m1\u001b[0m batches, \n",
      "         \u001b[1;36m1\u001b[0m labels, and \u001b[1;36m0\u001b[0m proteins. Also registered \u001b[1;36m0\u001b[0m extra categorical covariates and \u001b[1;36m0\u001b[0m extra\n",
      "         continuous covariates.                                                              \n",
      "\u001b[34mINFO    \u001b[0m Please do not further modify adata until model is trained.                          \n"
     ]
    }
   ],
   "source": [
    "adata = sc.read_h5ad(\n",
    "    os.path.join(\n",
    "        constants.DEFAULT_DATA_PATH,\n",
    "        f\"{dataset}/preprocessed/adata_top_2000_genes.h5ad\",\n",
    "    )\n",
    ")\n",
    "ContrastiveVIModel.setup_anndata(adata, layer=\"count\")"
   ]
  },
  {
   "cell_type": "code",
   "execution_count": 5,
   "id": "2c819b82-1b72-44f9-ab3b-5fac7d0b0a54",
   "metadata": {},
   "outputs": [],
   "source": [
    "target_indices = np.where(adata.obs[split_key] != background_value)[0]\n",
    "target_adata = adata[target_indices]"
   ]
  },
  {
   "cell_type": "code",
   "execution_count": 6,
   "id": "e5db5963-993b-426a-98fa-6d1fd1f1d09a",
   "metadata": {},
   "outputs": [],
   "source": [
    "genes = pd.read_table(\n",
    "    os.path.join(\n",
    "        constants.DEFAULT_DATA_PATH,\n",
    "        dataset,\n",
    "        \"idasanutlin\",\n",
    "        \"Idasanutlin_24hr_expt1\",\n",
    "        \"genes.tsv\",\n",
    "    ),\n",
    "    header=None,\n",
    ")\n",
    "genes = genes.rename(columns={0: \"ensembl_id\", 1: \"gene_symbol\"})\n",
    "genes = genes[genes[\"ensembl_id\"].isin(adata.var.index)]"
   ]
  },
  {
   "cell_type": "code",
   "execution_count": 7,
   "id": "6179e3e0-0aa3-438a-a001-8c0ef27c5636",
   "metadata": {},
   "outputs": [
    {
     "name": "stderr",
     "output_type": "stream",
     "text": [
      "100%|█████████████████████████████████████████████████████████████████████████████████████████████| 5/5 [00:56<00:00, 11.30s/it]\n"
     ]
    }
   ],
   "source": [
    "model_list = []\n",
    "latent_rep_list = []\n",
    "for seed in tqdm(seeds):\n",
    "    result_dir = os.path.join(\n",
    "        constants.DEFAULT_RESULTS_PATH,\n",
    "        f\"{dataset}/contrastiveVI/latent_{latent_size}\",\n",
    "        f\"{seed}\",\n",
    "    )\n",
    "    model_list.append(\n",
    "        torch.load(\n",
    "            os.path.join(result_dir, \"model.ckpt\"),\n",
    "            map_location=device,\n",
    "        ),\n",
    "    )\n",
    "    latent_rep_list.append(\n",
    "        np.load(os.path.join(result_dir, \"latent_representations.npy\")),\n",
    "    )"
   ]
  },
  {
   "cell_type": "code",
   "execution_count": 8,
   "id": "bb545723-bd81-4d42-97c6-18ae60623a8f",
   "metadata": {},
   "outputs": [
    {
     "name": "stdout",
     "output_type": "stream",
     "text": [
      "DE...: 100%|█████████████████████████████████████████████████████████████████████████████████████| 1/1 [04:42<00:00, 282.07s/it]\n",
      "DE...: 100%|█████████████████████████████████████████████████████████████████████████████████████| 1/1 [04:37<00:00, 277.10s/it]\n",
      "DE...: 100%|█████████████████████████████████████████████████████████████████████████████████████| 1/1 [04:34<00:00, 274.24s/it]\n",
      "DE...: 100%|█████████████████████████████████████████████████████████████████████████████████████| 1/1 [04:33<00:00, 273.46s/it]\n",
      "DE...: 100%|█████████████████████████████████████████████████████████████████████████████████████| 1/1 [04:33<00:00, 273.24s/it]\n"
     ]
    }
   ],
   "source": [
    "de_result_list = []\n",
    "for seed_index, seed in enumerate(seeds):\n",
    "    model = model_list[seed_index]\n",
    "    latent_rep = latent_rep_list[seed_index]\n",
    "    latent_clusters = KMeans(n_clusters=2, random_state=123).fit(latent_rep).labels_\n",
    "    cluster_label = f\"cluster_{seed}\"\n",
    "    \n",
    "    tmp_target_adata = target_adata.copy()\n",
    "    tmp_target_adata.obs[cluster_label] = latent_clusters.astype(str)\n",
    "    \n",
    "    de_result = model.differential_expression(\n",
    "        adata=tmp_target_adata,\n",
    "        groupby=cluster_label,\n",
    "        group1=\"0\",\n",
    "        group2=\"1\",\n",
    "        idx1=None,\n",
    "        idx2=None,\n",
    "        mode=\"change\",\n",
    "        delta=0.25,\n",
    "        batch_size=128,\n",
    "        all_stats=True,\n",
    "        batch_correction=False,\n",
    "        batchid1=None,\n",
    "        batchid2=None,\n",
    "        fdr_target=0.05,\n",
    "        silent=False,\n",
    "    )\n",
    "    \n",
    "    de_result.reset_index()\n",
    "    de_result[\"ensembl_id\"] = de_result.index\n",
    "    de_result = de_result.merge(genes, on=\"ensembl_id\")\n",
    "    de_result[\"seed\"] = seed\n",
    "    de_result_list.append(de_result)"
   ]
  },
  {
   "cell_type": "code",
   "execution_count": 9,
   "id": "048e181b-01c0-4b5a-863f-c27496a8c381",
   "metadata": {},
   "outputs": [],
   "source": [
    "de_result = pd.concat(de_result_list)"
   ]
  },
  {
   "cell_type": "code",
   "execution_count": 10,
   "id": "d4e37fcd-b309-4803-93d3-0b9799ec3ccd",
   "metadata": {},
   "outputs": [],
   "source": [
    "de_result_mean = (\n",
    "    de_result.groupby(\"gene_symbol\", as_index=False)\n",
    "    .mean()\n",
    "    .sort_values(by=\"proba_de\", ascending=False)\n",
    ")"
   ]
  },
  {
   "cell_type": "code",
   "execution_count": 11,
   "id": "36bfe2ef-a6b5-4389-89c4-7a25317c9666",
   "metadata": {},
   "outputs": [],
   "source": [
    "top_genes = de_result_mean[de_result_mean[\"proba_de\"] > 0.95][\"gene_symbol\"].tolist()\n",
    "\n",
    "enr = gp.enrichr(\n",
    "    gene_list=top_genes,\n",
    "    gene_sets=\"KEGG_2016\",\n",
    "    organism=\"human\",\n",
    "    cutoff=0.05,\n",
    ")\n",
    "\n",
    "enr_results = enr.results\n",
    "enr_results = enr_results[enr_results[\"Adjusted P-value\"] < 0.05]"
   ]
  },
  {
   "cell_type": "code",
   "execution_count": 12,
   "id": "b93eea44-42ce-4b52-b77f-9884648c172b",
   "metadata": {},
   "outputs": [
    {
     "data": {
      "text/html": [
       "<div>\n",
       "<style scoped>\n",
       "    .dataframe tbody tr th:only-of-type {\n",
       "        vertical-align: middle;\n",
       "    }\n",
       "\n",
       "    .dataframe tbody tr th {\n",
       "        vertical-align: top;\n",
       "    }\n",
       "\n",
       "    .dataframe thead th {\n",
       "        text-align: right;\n",
       "    }\n",
       "</style>\n",
       "<table border=\"1\" class=\"dataframe\">\n",
       "  <thead>\n",
       "    <tr style=\"text-align: right;\">\n",
       "      <th></th>\n",
       "      <th>Gene_set</th>\n",
       "      <th>Term</th>\n",
       "      <th>Adjusted P-value</th>\n",
       "      <th>Overlap</th>\n",
       "      <th>Genes</th>\n",
       "    </tr>\n",
       "  </thead>\n",
       "  <tbody>\n",
       "    <tr>\n",
       "      <th>0</th>\n",
       "      <td>KEGG_2016</td>\n",
       "      <td>p53 signaling pathway Homo sapiens hsa04115</td>\n",
       "      <td>0.000472</td>\n",
       "      <td>4/69</td>\n",
       "      <td>CDKN1A;TP53I3;MDM2;BBC3</td>\n",
       "    </tr>\n",
       "  </tbody>\n",
       "</table>\n",
       "</div>"
      ],
      "text/plain": [
       "    Gene_set                                         Term  Adjusted P-value  \\\n",
       "0  KEGG_2016  p53 signaling pathway Homo sapiens hsa04115          0.000472   \n",
       "\n",
       "  Overlap                    Genes  \n",
       "0    4/69  CDKN1A;TP53I3;MDM2;BBC3  "
      ]
     },
     "execution_count": 12,
     "metadata": {},
     "output_type": "execute_result"
    }
   ],
   "source": [
    "cols = [\"Gene_set\", \"Term\", \"Adjusted P-value\", \"Overlap\", \"Genes\"]\n",
    "enr_results[cols]"
   ]
  },
  {
   "cell_type": "code",
   "execution_count": 13,
   "id": "2d83cea4-43c7-4607-9aee-62956d272d66",
   "metadata": {},
   "outputs": [
    {
     "data": {
      "text/plain": [
       "['p53 signaling pathway Homo sapiens hsa04115']"
      ]
     },
     "execution_count": 13,
     "metadata": {},
     "output_type": "execute_result"
    }
   ],
   "source": [
    "enr_results[\"Term\"].tolist()"
   ]
  },
  {
   "cell_type": "code",
   "execution_count": 14,
   "id": "2285b296-3039-4f30-a916-580f4f41208d",
   "metadata": {},
   "outputs": [
    {
     "data": {
      "text/plain": [
       "37"
      ]
     },
     "execution_count": 14,
     "metadata": {},
     "output_type": "execute_result"
    }
   ],
   "source": [
    "len(top_genes)"
   ]
  },
  {
   "cell_type": "code",
   "execution_count": null,
   "id": "d50e4454-6e9a-4c1e-9bf8-7c8cf671959a",
   "metadata": {},
   "outputs": [],
   "source": []
  }
 ],
 "metadata": {
  "kernelspec": {
   "display_name": "Python 3 (ipykernel)",
   "language": "python",
   "name": "python3"
  },
  "language_info": {
   "codemirror_mode": {
    "name": "ipython",
    "version": 3
   },
   "file_extension": ".py",
   "mimetype": "text/x-python",
   "name": "python",
   "nbconvert_exporter": "python",
   "pygments_lexer": "ipython3",
   "version": "3.9.7"
  }
 },
 "nbformat": 4,
 "nbformat_minor": 5
}
