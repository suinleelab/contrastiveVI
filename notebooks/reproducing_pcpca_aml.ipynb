{
 "cells": [
  {
   "cell_type": "code",
   "execution_count": 10,
   "id": "60a80146-d32d-456b-9cfe-b23968ea2cb9",
   "metadata": {},
   "outputs": [],
   "source": [
    "from sklearn.preprocessing import StandardScaler, LabelEncoder\n",
    "from pcpca import PCPCA\n",
    "from sklearn.metrics import silhouette_score\n",
    "import scanpy as sc\n",
    "import os\n",
    "from scripts import constants\n",
    "\n",
    "adata = sc.read_h5ad(os.path.join(constants.DEFAULT_DATA_PATH, \"zheng_2017/preprocessed/adata_top_2000_genes.h5ad\"))\n",
    "\n",
    "\n",
    "target_adata = adata[adata.obs['condition'] != 'healthy'].copy()\n",
    "background_adata = adata[adata.obs['condition'] == 'healthy'].copy()\n",
    "\n",
    "background_data = StandardScaler().fit_transform(adata[adata.obs['condition'] == 'healthy'].layers['count'])\n",
    "target_data = StandardScaler().fit_transform(adata[adata.obs['patient_id'] == 'aml027'].layers['count'])"
   ]
  },
  {
   "cell_type": "code",
   "execution_count": 14,
   "id": "8640798e-1b99-4684-a112-caa991c8dbee",
   "metadata": {},
   "outputs": [],
   "source": [
    "n, m = target_data.shape[1], background_data.shape[1]\n",
    "model = PCPCA(n_components=2, gamma=0.5)\n",
    "model.fit(target_data.transpose(), background_data.transpose())"
   ]
  },
  {
   "cell_type": "code",
   "execution_count": 15,
   "id": "4ef95a60-9880-4f2f-8484-111c73aff6cc",
   "metadata": {},
   "outputs": [],
   "source": [
    "PCPCA_salient_representations = model.transform(\n",
    "    target_adata.X.transpose(),\n",
    "    background_adata.X.transpose()\n",
    ")[0].transpose()"
   ]
  },
  {
   "cell_type": "code",
   "execution_count": 16,
   "id": "00782e85-3ae2-42e4-84ae-2ab4920ef157",
   "metadata": {},
   "outputs": [
    {
     "data": {
      "text/plain": [
       "0.15913859012623038"
      ]
     },
     "execution_count": 16,
     "metadata": {},
     "output_type": "execute_result"
    }
   ],
   "source": [
    "silhouette_score(\n",
    "    PCPCA_salient_representations,\n",
    "    LabelEncoder().fit_transform(target_adata.obs['condition'])\n",
    ")"
   ]
  },
  {
   "cell_type": "code",
   "execution_count": null,
   "id": "72f62a34-8575-4264-8367-bb195ac7e863",
   "metadata": {},
   "outputs": [],
   "source": []
  }
 ],
 "metadata": {
  "kernelspec": {
   "display_name": "Python 3",
   "language": "python",
   "name": "python3"
  },
  "language_info": {
   "codemirror_mode": {
    "name": "ipython",
    "version": 3
   },
   "file_extension": ".py",
   "mimetype": "text/x-python",
   "name": "python",
   "nbconvert_exporter": "python",
   "pygments_lexer": "ipython3",
   "version": "3.9.7"
  }
 },
 "nbformat": 4,
 "nbformat_minor": 5
}
