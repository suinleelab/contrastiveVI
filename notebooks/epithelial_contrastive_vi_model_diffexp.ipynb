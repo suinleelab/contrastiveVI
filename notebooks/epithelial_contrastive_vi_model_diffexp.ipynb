{
 "cells": [
  {
   "cell_type": "code",
   "execution_count": 1,
   "id": "1a30ee90-9e35-4987-9254-3b75e774d6e1",
   "metadata": {},
   "outputs": [
    {
     "name": "stderr",
     "output_type": "stream",
     "text": [
      "Global seed set to 0\n",
      "During startup - Warning messages:\n",
      "1: package ‘methods’ was built under R version 3.6.1 \n",
      "2: package ‘datasets’ was built under R version 3.6.1 \n",
      "3: package ‘utils’ was built under R version 3.6.1 \n",
      "4: package ‘grDevices’ was built under R version 3.6.1 \n",
      "5: package ‘graphics’ was built under R version 3.6.1 \n",
      "6: package ‘stats’ was built under R version 3.6.1 \n"
     ]
    }
   ],
   "source": [
    "import os\n",
    "import torch\n",
    "import pandas as pd\n",
    "import numpy as np\n",
    "import scanpy as sc\n",
    "import gseapy as gp\n",
    "import seaborn as sns\n",
    "\n",
    "from tqdm import tqdm\n",
    "from functools import partial\n",
    "from sklearn.cluster import KMeans\n",
    "from scvi.model.base._utils import _de_core\n",
    "from scvi.model._utils import _get_var_names_from_setup_anndata,  scrna_raw_counts_properties\n",
    "from scripts import constants\n",
    "from contrastive_vi.model.contrastive_vi import ContrastiveVIModel\n",
    "\n",
    "from anndata import AnnData\n",
    "from typing import Dict, Iterable, Optional, Sequence, Union\n",
    "from scvi._compat import Literal\n",
    "\n",
    "Number = Union[int, float]"
   ]
  },
  {
   "cell_type": "code",
   "execution_count": 2,
   "id": "69e38f98-0a04-43cf-a485-6c33386e2ac8",
   "metadata": {},
   "outputs": [],
   "source": [
    "dataset = \"haber_2017\""
   ]
  },
  {
   "cell_type": "code",
   "execution_count": 3,
   "id": "1298aa8a-1bb7-4888-89f5-abe6a15a461b",
   "metadata": {},
   "outputs": [],
   "source": [
    "split_key = constants.DATASET_SPLIT_LOOKUP[dataset][\"split_key\"]\n",
    "background_value = constants.DATASET_SPLIT_LOOKUP[dataset][\"background_value\"]"
   ]
  },
  {
   "cell_type": "code",
   "execution_count": 4,
   "id": "56bbb7e9-13e5-4399-8032-330c0467e3c2",
   "metadata": {},
   "outputs": [
    {
     "name": "stdout",
     "output_type": "stream",
     "text": [
      "\u001b[34mINFO    \u001b[0m No batch_key inputted, assuming all cells are same batch                            \n",
      "\u001b[34mINFO    \u001b[0m No label_key inputted, assuming all cells have same label                           \n",
      "\u001b[34mINFO    \u001b[0m Using data from adata.layers\u001b[1m[\u001b[0m\u001b[32m\"count\"\u001b[0m\u001b[1m]\u001b[0m                                               \n",
      "\u001b[34mINFO    \u001b[0m Successfully registered anndata object containing \u001b[1;36m7721\u001b[0m cells, \u001b[1;36m2000\u001b[0m vars, \u001b[1;36m1\u001b[0m batches, \n",
      "         \u001b[1;36m1\u001b[0m labels, and \u001b[1;36m0\u001b[0m proteins. Also registered \u001b[1;36m0\u001b[0m extra categorical covariates and \u001b[1;36m0\u001b[0m extra\n",
      "         continuous covariates.                                                              \n",
      "\u001b[34mINFO    \u001b[0m Please do not further modify adata until model is trained.                          \n"
     ]
    }
   ],
   "source": [
    "adata = sc.read_h5ad(\n",
    "    os.path.join(\n",
    "        constants.DEFAULT_DATA_PATH,\n",
    "        f\"{dataset}/preprocessed/adata_top_2000_genes.h5ad\",\n",
    "    )\n",
    ")\n",
    "ContrastiveVIModel.setup_anndata(adata, layer=\"count\")"
   ]
  },
  {
   "cell_type": "code",
   "execution_count": 5,
   "id": "2c819b82-1b72-44f9-ab3b-5fac7d0b0a54",
   "metadata": {},
   "outputs": [],
   "source": [
    "target_indices = np.where(adata.obs[split_key] != background_value)[0]\n",
    "target_adata = adata[target_indices]"
   ]
  },
  {
   "cell_type": "code",
   "execution_count": 6,
   "id": "bc4372a7-0f5e-41b1-8fa0-2e4b7690686b",
   "metadata": {},
   "outputs": [],
   "source": [
    "genes = adata.var.index"
   ]
  },
  {
   "cell_type": "code",
   "execution_count": 7,
   "id": "6179e3e0-0aa3-438a-a001-8c0ef27c5636",
   "metadata": {},
   "outputs": [
    {
     "name": "stderr",
     "output_type": "stream",
     "text": [
      "100%|████████████████████████████████████████████████████████████████████████| 5/5 [01:02<00:00, 12.44s/it]\n",
      "100%|████████████████████████████████████████████████████████████████████████| 5/5 [00:00<00:00, 18.76it/s]\n"
     ]
    }
   ],
   "source": [
    "seeds = constants.DEFAULT_SEEDS\n",
    "latent_size = 10\n",
    "model_list = [\n",
    "    torch.load(\n",
    "        os.path.join(\n",
    "            constants.DEFAULT_RESULTS_PATH,\n",
    "            f\"{dataset}/contrastiveVI/latent_{latent_size}/{seed}/model.ckpt\",\n",
    "        ),\n",
    "        map_location=\"cpu\",\n",
    "    )\n",
    "    for seed in tqdm(seeds)\n",
    "]\n",
    "latent_rep_list = [\n",
    "    np.load(\n",
    "        os.path.join(\n",
    "            constants.DEFAULT_RESULTS_PATH,\n",
    "            f\"{dataset}/contrastiveVI/latent_{latent_size}/{seed}/latent_representations.npy\",\n",
    "        ),\n",
    "    )\n",
    "    for seed in tqdm(seeds)\n",
    "]"
   ]
  },
  {
   "cell_type": "code",
   "execution_count": 8,
   "id": "bb545723-bd81-4d42-97c6-18ae60623a8f",
   "metadata": {
    "tags": []
   },
   "outputs": [
    {
     "name": "stdout",
     "output_type": "stream",
     "text": [
      "DE...: 100%|████████████████████████████████████████████████████████████████| 1/1 [04:23<00:00, 263.22s/it]\n",
      "DE...: 100%|████████████████████████████████████████████████████████████████| 1/1 [04:17<00:00, 257.41s/it]\n",
      "DE...: 100%|████████████████████████████████████████████████████████████████| 1/1 [04:18<00:00, 258.34s/it]\n",
      "DE...: 100%|████████████████████████████████████████████████████████████████| 1/1 [04:21<00:00, 261.96s/it]\n",
      "DE...: 100%|████████████████████████████████████████████████████████████████| 1/1 [04:18<00:00, 258.18s/it]\n"
     ]
    }
   ],
   "source": [
    "result_list = []\n",
    "for seed_index, seed in enumerate(seeds):\n",
    "    model = model_list[seed_index]\n",
    "    latent_rep = latent_rep_list[seed_index]\n",
    "    \n",
    "    target_adata = model._validate_anndata(target_adata.copy())\n",
    "    col_names = _get_var_names_from_setup_anndata(target_adata)\n",
    "    \n",
    "    latent_clusters = KMeans(n_clusters=2, random_state=123).fit(latent_rep).labels_\n",
    "    target_adata.obs[f\"cluster_{seeds[seed_index]}\"] = latent_clusters.astype(str)\n",
    "\n",
    "    def get_normalized_expression(\n",
    "        adata: Optional[AnnData] = None,\n",
    "        indices: Optional[Sequence[int]] = None,\n",
    "        transform_batch: Optional[Sequence[Union[Number, str]]] = None,\n",
    "        gene_list: Optional[Sequence[str]] = None,\n",
    "        library_size: Union[float, Literal[\"latent\"]] = 1,\n",
    "        n_samples: int = 1,\n",
    "        n_samples_overall: int = None,\n",
    "        batch_size: Optional[int] = None,\n",
    "        return_mean: bool = True,\n",
    "        return_numpy: Optional[bool] = None,\n",
    "    ):\n",
    "        exprs = model.get_normalized_expression(\n",
    "            adata=adata,\n",
    "            indices=indices,\n",
    "            transform_batch=transform_batch,\n",
    "            gene_list=gene_list,\n",
    "            library_size=library_size,\n",
    "            n_samples=n_samples,\n",
    "            n_samples_overall=n_samples_overall,\n",
    "            batch_size=batch_size,\n",
    "            return_mean=return_mean,\n",
    "            return_numpy=return_numpy,\n",
    "        )\n",
    "        return exprs[\"salient\"]\n",
    "    \n",
    "    model_fn = partial(\n",
    "        get_normalized_expression,\n",
    "        return_numpy=True,\n",
    "        n_samples=100,\n",
    "        batch_size=128,\n",
    "    )\n",
    "    result = _de_core(\n",
    "        target_adata,\n",
    "        model_fn,\n",
    "        groupby=f\"cluster_{seeds[seed_index]}\",\n",
    "        group1=\"0\",\n",
    "        group2=\"1\",\n",
    "        idx1=None,\n",
    "        idx2=None,\n",
    "        all_stats=True,\n",
    "        all_stats_fn=scrna_raw_counts_properties,\n",
    "        col_names=col_names,\n",
    "        mode=\"change\",\n",
    "        batchid1=None,\n",
    "        batchid2=None,\n",
    "        delta=0.25,\n",
    "        batch_correction=False,\n",
    "        fdr=0.05,\n",
    "        silent=False,\n",
    "    )\n",
    "    \n",
    "    result.reset_index()\n",
    "    result[\"gene_symbol\"] = result.index\n",
    "    result_list.append(result)"
   ]
  },
  {
   "cell_type": "code",
   "execution_count": 9,
   "id": "048e181b-01c0-4b5a-863f-c27496a8c381",
   "metadata": {},
   "outputs": [],
   "source": [
    "for seed_index, seed in enumerate(seeds):\n",
    "    result_list[seed_index][\"seed\"] = seed\n",
    "all_result = pd.concat(result_list)"
   ]
  },
  {
   "cell_type": "code",
   "execution_count": 10,
   "id": "d4e37fcd-b309-4803-93d3-0b9799ec3ccd",
   "metadata": {},
   "outputs": [],
   "source": [
    "all_result_mean = (\n",
    "    all_result.groupby(\"gene_symbol\", as_index=False)\n",
    "    .mean()\n",
    "    .sort_values(by=\"proba_de\", ascending=False)\n",
    ")"
   ]
  },
  {
   "cell_type": "code",
   "execution_count": 11,
   "id": "36bfe2ef-a6b5-4389-89c4-7a25317c9666",
   "metadata": {},
   "outputs": [],
   "source": [
    "top_genes = all_result_mean[all_result_mean[\"proba_de\"] > 0.95][\"gene_symbol\"].tolist()\n",
    "\n",
    "enr = gp.enrichr(\n",
    "    gene_list=top_genes,\n",
    "    gene_sets=\"KEGG_2019_Mouse\",\n",
    "    organism=\"mouse\",\n",
    "    cutoff=0.5,\n",
    ")\n",
    "\n",
    "enr_results = enr.results"
   ]
  },
  {
   "cell_type": "code",
   "execution_count": 12,
   "id": "b93eea44-42ce-4b52-b77f-9884648c172b",
   "metadata": {},
   "outputs": [
    {
     "data": {
      "text/html": [
       "<div>\n",
       "<style scoped>\n",
       "    .dataframe tbody tr th:only-of-type {\n",
       "        vertical-align: middle;\n",
       "    }\n",
       "\n",
       "    .dataframe tbody tr th {\n",
       "        vertical-align: top;\n",
       "    }\n",
       "\n",
       "    .dataframe thead th {\n",
       "        text-align: right;\n",
       "    }\n",
       "</style>\n",
       "<table border=\"1\" class=\"dataframe\">\n",
       "  <thead>\n",
       "    <tr style=\"text-align: right;\">\n",
       "      <th></th>\n",
       "      <th>Gene_set</th>\n",
       "      <th>Term</th>\n",
       "      <th>Adjusted P-value</th>\n",
       "      <th>Overlap</th>\n",
       "      <th>Genes</th>\n",
       "    </tr>\n",
       "  </thead>\n",
       "  <tbody>\n",
       "    <tr>\n",
       "      <th>0</th>\n",
       "      <td>KEGG_2019_Mouse</td>\n",
       "      <td>Fat digestion and absorption</td>\n",
       "      <td>0.023545</td>\n",
       "      <td>5/40</td>\n",
       "      <td>FABP1;FABP2;PLA2G3;APOA1;APOA4</td>\n",
       "    </tr>\n",
       "    <tr>\n",
       "      <th>1</th>\n",
       "      <td>KEGG_2019_Mouse</td>\n",
       "      <td>Vitamin digestion and absorption</td>\n",
       "      <td>0.023545</td>\n",
       "      <td>4/24</td>\n",
       "      <td>CUBN;RBP2;APOA1;APOA4</td>\n",
       "    </tr>\n",
       "    <tr>\n",
       "      <th>2</th>\n",
       "      <td>KEGG_2019_Mouse</td>\n",
       "      <td>Cholesterol metabolism</td>\n",
       "      <td>0.029304</td>\n",
       "      <td>5/49</td>\n",
       "      <td>APOH;APOC2;APOA1;APOC3;APOA4</td>\n",
       "    </tr>\n",
       "    <tr>\n",
       "      <th>3</th>\n",
       "      <td>KEGG_2019_Mouse</td>\n",
       "      <td>PPAR signaling pathway</td>\n",
       "      <td>0.251684</td>\n",
       "      <td>5/85</td>\n",
       "      <td>FABP1;FABP2;APOA1;APOC3;HMGCS2</td>\n",
       "    </tr>\n",
       "    <tr>\n",
       "      <th>4</th>\n",
       "      <td>KEGG_2019_Mouse</td>\n",
       "      <td>Taurine and hypotaurine metabolism</td>\n",
       "      <td>0.253837</td>\n",
       "      <td>2/11</td>\n",
       "      <td>GGT7;GGT1</td>\n",
       "    </tr>\n",
       "    <tr>\n",
       "      <th>...</th>\n",
       "      <td>...</td>\n",
       "      <td>...</td>\n",
       "      <td>...</td>\n",
       "      <td>...</td>\n",
       "      <td>...</td>\n",
       "    </tr>\n",
       "    <tr>\n",
       "      <th>142</th>\n",
       "      <td>KEGG_2019_Mouse</td>\n",
       "      <td>cAMP signaling pathway</td>\n",
       "      <td>0.976313</td>\n",
       "      <td>1/211</td>\n",
       "      <td>MYL9</td>\n",
       "    </tr>\n",
       "    <tr>\n",
       "      <th>143</th>\n",
       "      <td>KEGG_2019_Mouse</td>\n",
       "      <td>Thermogenesis</td>\n",
       "      <td>0.982260</td>\n",
       "      <td>1/231</td>\n",
       "      <td>CNR1</td>\n",
       "    </tr>\n",
       "    <tr>\n",
       "      <th>144</th>\n",
       "      <td>KEGG_2019_Mouse</td>\n",
       "      <td>Human cytomegalovirus infection</td>\n",
       "      <td>0.984735</td>\n",
       "      <td>1/255</td>\n",
       "      <td>ELK1</td>\n",
       "    </tr>\n",
       "    <tr>\n",
       "      <th>145</th>\n",
       "      <td>KEGG_2019_Mouse</td>\n",
       "      <td>Endocytosis</td>\n",
       "      <td>0.984735</td>\n",
       "      <td>1/269</td>\n",
       "      <td>RAB11FIP5</td>\n",
       "    </tr>\n",
       "    <tr>\n",
       "      <th>146</th>\n",
       "      <td>KEGG_2019_Mouse</td>\n",
       "      <td>Neuroactive ligand-receptor interaction</td>\n",
       "      <td>0.992913</td>\n",
       "      <td>1/348</td>\n",
       "      <td>CNR1</td>\n",
       "    </tr>\n",
       "  </tbody>\n",
       "</table>\n",
       "<p>147 rows × 5 columns</p>\n",
       "</div>"
      ],
      "text/plain": [
       "            Gene_set                                     Term  \\\n",
       "0    KEGG_2019_Mouse             Fat digestion and absorption   \n",
       "1    KEGG_2019_Mouse         Vitamin digestion and absorption   \n",
       "2    KEGG_2019_Mouse                   Cholesterol metabolism   \n",
       "3    KEGG_2019_Mouse                   PPAR signaling pathway   \n",
       "4    KEGG_2019_Mouse       Taurine and hypotaurine metabolism   \n",
       "..               ...                                      ...   \n",
       "142  KEGG_2019_Mouse                   cAMP signaling pathway   \n",
       "143  KEGG_2019_Mouse                            Thermogenesis   \n",
       "144  KEGG_2019_Mouse          Human cytomegalovirus infection   \n",
       "145  KEGG_2019_Mouse                              Endocytosis   \n",
       "146  KEGG_2019_Mouse  Neuroactive ligand-receptor interaction   \n",
       "\n",
       "     Adjusted P-value Overlap                           Genes  \n",
       "0            0.023545    5/40  FABP1;FABP2;PLA2G3;APOA1;APOA4  \n",
       "1            0.023545    4/24           CUBN;RBP2;APOA1;APOA4  \n",
       "2            0.029304    5/49    APOH;APOC2;APOA1;APOC3;APOA4  \n",
       "3            0.251684    5/85  FABP1;FABP2;APOA1;APOC3;HMGCS2  \n",
       "4            0.253837    2/11                       GGT7;GGT1  \n",
       "..                ...     ...                             ...  \n",
       "142          0.976313   1/211                            MYL9  \n",
       "143          0.982260   1/231                            CNR1  \n",
       "144          0.984735   1/255                            ELK1  \n",
       "145          0.984735   1/269                       RAB11FIP5  \n",
       "146          0.992913   1/348                            CNR1  \n",
       "\n",
       "[147 rows x 5 columns]"
      ]
     },
     "execution_count": 12,
     "metadata": {},
     "output_type": "execute_result"
    }
   ],
   "source": [
    "cols = [\"Gene_set\", \"Term\", \"Adjusted P-value\", \"Overlap\", \"Genes\"]\n",
    "enr_results[cols]"
   ]
  },
  {
   "cell_type": "code",
   "execution_count": null,
   "id": "dd3af64c-fda2-4ad8-8253-567c826c04df",
   "metadata": {},
   "outputs": [],
   "source": []
  }
 ],
 "metadata": {
  "kernelspec": {
   "display_name": "Python 3",
   "language": "python",
   "name": "python3"
  },
  "language_info": {
   "codemirror_mode": {
    "name": "ipython",
    "version": 3
   },
   "file_extension": ".py",
   "mimetype": "text/x-python",
   "name": "python",
   "nbconvert_exporter": "python",
   "pygments_lexer": "ipython3",
   "version": "3.9.7"
  }
 },
 "nbformat": 4,
 "nbformat_minor": 5
}
